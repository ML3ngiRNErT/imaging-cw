{
 "cells": [
  {
   "cell_type": "markdown",
   "metadata": {
    "id": "Wz8RgEoSMl7P"
   },
   "source": [
    "# Coursework: Age regression from brain MRI"
   ]
  },
  {
   "cell_type": "markdown",
   "metadata": {
    "id": "0D-KcfIxMl7U"
   },
   "source": [
    "Predicting the age of a patient from their brain MRI scan can have diagnostic value for a number of diseases that may cause structural changes and potential damage to the brain. A discrepancy between the predicted age and the real, chronological age of a patient might indicate the presence of disease. This requires an accurate predictor of brain age which may be learned from a set of healthy reference subjects, given their brain MRI data and their actual age.\n",
    "\n",
    "**The objective for the coursework is to implement two supervised learning approaches for age regression from brain MRI.** We provide data from a total of 652 healthy subjects, that is split into different development sets and a hold-out test set on which you will evaluate your final prediction accuracy.\n",
    "\n",
    "Each approach will require a processing pipeline with different components that you will need to implement using methods that were discussed in the lectures and tutorials. There are two dedicated parts in the Jupyter notebook for each approach which contain some detailed instructions and some helper code.\n",
    "\n",
    "You may find some useful ideas and implementations in the tutorial notebooks. Once you have implemented both approaches and obtained results from your experiments, we ask you to write a short summary report. The reports should contain a short introduction, description of each of your methods and the individual processing steps, your results with a brief discussion. The report should also include some figures and plots to support your findings and illustrate your results.\n",
    "\n",
    "#### Read the text descriptions and code cells carefully and look out for the cells marked with 'TASK' and 'ADD YOUR CODE HERE'."
   ]
  },
  {
   "cell_type": "markdown",
   "metadata": {
    "id": "6HDFOM-MMl7V"
   },
   "source": [
    "### Getting started and familiarise ourselves with the data\n",
    "\n",
    "The following cells provide some helper functions to load the data, and provide some overview and visualisation of the statistics over the total population of 652 subjects. The data will be split into different subsets to be used for different parts of the coursework. There is a set of 52 subjects to be used in part A to develop an image segmentation method (47 for training, 5 for validation). We then use 500 subjects for training and two-fold cross-validation of age regression approaches in part A and B. **A remaining set of 100 subjects is used to test the final age prediction accuracy and will be made available towards the end of the coursework.**"
   ]
  },
  {
   "cell_type": "markdown",
   "metadata": {
    "id": "SDh3o8F-Ml7V"
   },
   "source": [
    "### Install SimpleITK"
   ]
  },
  {
   "cell_type": "code",
   "execution_count": 1,
   "metadata": {
    "colab": {
     "base_uri": "https://localhost:8080/"
    },
    "id": "aY_URdZIMl7W",
    "outputId": "cc3e1e60-3cef-4e6f-c6c3-5dbb34b6be7c"
   },
   "outputs": [
    {
     "name": "stdout",
     "output_type": "stream",
     "text": [
      "Collecting SimpleITK==1.2.4\n",
      "\u001b[?25l  Downloading https://files.pythonhosted.org/packages/4a/ee/638b6bae2db10e5ef4ca94c95bb29ec25aa37a9d721b47f91077d7e985e0/SimpleITK-1.2.4-cp37-cp37m-manylinux1_x86_64.whl (42.5MB)\n",
      "\u001b[K     |████████████████████████████████| 42.5MB 74kB/s \n",
      "\u001b[?25hInstalling collected packages: SimpleITK\n",
      "Successfully installed SimpleITK-1.2.4\n"
     ]
    }
   ],
   "source": [
    "! pip install SimpleITK==1.2.4 "
   ]
  },
  {
   "cell_type": "code",
   "execution_count": 2,
   "metadata": {
    "colab": {
     "base_uri": "https://localhost:8080/"
    },
    "id": "_MhXRcN9M3E6",
    "outputId": "f7933555-88ef-4e8f-cceb-388c850125d5"
   },
   "outputs": [
    {
     "name": "stdout",
     "output_type": "stream",
     "text": [
      "Mounted at /content/drive\n"
     ]
    }
   ],
   "source": [
    "from google.colab import drive\n",
    "drive.mount('/content/drive')\n",
    "\n",
    "data_dir = '/content/drive/MyDrive/brain_seg/'"
   ]
  },
  {
   "cell_type": "code",
   "execution_count": 3,
   "metadata": {
    "colab": {
     "base_uri": "https://localhost:8080/",
     "height": 34
    },
    "id": "4u7FzoQJObgV",
    "outputId": "03a6a8b4-8ff5-499c-e973-86cdba261d87"
   },
   "outputs": [
    {
     "data": {
      "application/vnd.google.colaboratory.intrinsic+json": {
       "type": "string"
      },
      "text/plain": [
       "'/content/drive/MyDrive/brain_seg/'"
      ]
     },
     "execution_count": 3,
     "metadata": {
      "tags": []
     },
     "output_type": "execute_result"
    }
   ],
   "source": [
    "data_dir"
   ]
  },
  {
   "cell_type": "markdown",
   "metadata": {
    "id": "_1_-j4t9Ml7X"
   },
   "source": [
    "### Downloading the data"
   ]
  },
  {
   "cell_type": "code",
   "execution_count": 4,
   "metadata": {
    "id": "-t1HhC5rMl7Y"
   },
   "outputs": [],
   "source": [
    "# ! wget https://www.doc.ic.ac.uk/~bglocker/teaching/notebooks/brainage-data.zip\n",
    "# ! unzip brainage-data.zip"
   ]
  },
  {
   "cell_type": "markdown",
   "metadata": {
    "id": "eGcYHdwjMl7Y"
   },
   "source": [
    "### Setting data directory"
   ]
  },
  {
   "cell_type": "code",
   "execution_count": 5,
   "metadata": {
    "id": "WTDW0kQAMl7Y"
   },
   "outputs": [],
   "source": [
    "# # data directory\n",
    "# import os\n",
    "\n",
    "# if not os.path.exists('/content/drive/MyDrive/brain_seg'):\n",
    "#     os.mkdir('/content/drive/MyDrive/brain_seg')\n",
    "\n",
    "# from distutils.dir_util import copy_tree\n",
    "\n",
    "# # copy subdirectory example\n",
    "# fromDirectory = '/content/data/brain_age/'\n",
    "# toDirectory = '/content/drive/MyDrive/brain_seg'\n",
    "\n",
    "# copy_tree(fromDirectory, toDirectory)"
   ]
  },
  {
   "cell_type": "markdown",
   "metadata": {
    "id": "kdxmKcVsMl7Y"
   },
   "source": [
    "Let's start by loading the meta data of the entire population, that is the data containing information about the subject IDs, their age, and gender."
   ]
  },
  {
   "cell_type": "code",
   "execution_count": 6,
   "metadata": {
    "colab": {
     "base_uri": "https://localhost:8080/",
     "height": 202
    },
    "id": "iBqqodi7Ml7Z",
    "outputId": "830b7208-e9d3-4e17-c6e1-604e2a944368"
   },
   "outputs": [
    {
     "data": {
      "text/html": [
       "<div>\n",
       "<style scoped>\n",
       "    .dataframe tbody tr th:only-of-type {\n",
       "        vertical-align: middle;\n",
       "    }\n",
       "\n",
       "    .dataframe tbody tr th {\n",
       "        vertical-align: top;\n",
       "    }\n",
       "\n",
       "    .dataframe thead th {\n",
       "        text-align: right;\n",
       "    }\n",
       "</style>\n",
       "<table border=\"1\" class=\"dataframe\">\n",
       "  <thead>\n",
       "    <tr style=\"text-align: right;\">\n",
       "      <th></th>\n",
       "      <th>subject_id</th>\n",
       "      <th>age</th>\n",
       "      <th>gender_code</th>\n",
       "      <th>gender_text</th>\n",
       "    </tr>\n",
       "  </thead>\n",
       "  <tbody>\n",
       "    <tr>\n",
       "      <th>0</th>\n",
       "      <td>CC110033</td>\n",
       "      <td>24</td>\n",
       "      <td>1</td>\n",
       "      <td>MALE</td>\n",
       "    </tr>\n",
       "    <tr>\n",
       "      <th>1</th>\n",
       "      <td>CC110037</td>\n",
       "      <td>18</td>\n",
       "      <td>1</td>\n",
       "      <td>MALE</td>\n",
       "    </tr>\n",
       "    <tr>\n",
       "      <th>2</th>\n",
       "      <td>CC110045</td>\n",
       "      <td>24</td>\n",
       "      <td>2</td>\n",
       "      <td>FEMALE</td>\n",
       "    </tr>\n",
       "    <tr>\n",
       "      <th>3</th>\n",
       "      <td>CC110056</td>\n",
       "      <td>22</td>\n",
       "      <td>2</td>\n",
       "      <td>FEMALE</td>\n",
       "    </tr>\n",
       "    <tr>\n",
       "      <th>4</th>\n",
       "      <td>CC110062</td>\n",
       "      <td>20</td>\n",
       "      <td>1</td>\n",
       "      <td>MALE</td>\n",
       "    </tr>\n",
       "  </tbody>\n",
       "</table>\n",
       "</div>"
      ],
      "text/plain": [
       "  subject_id  age  gender_code gender_text\n",
       "0   CC110033   24            1        MALE\n",
       "1   CC110037   18            1        MALE\n",
       "2   CC110045   24            2      FEMALE\n",
       "3   CC110056   22            2      FEMALE\n",
       "4   CC110062   20            1        MALE"
      ]
     },
     "execution_count": 6,
     "metadata": {
      "tags": []
     },
     "output_type": "execute_result"
    }
   ],
   "source": [
    "# Read the meta data using pandas\n",
    "import pandas as pd\n",
    "\n",
    "meta_data_all = pd.read_csv(data_dir + 'meta/meta_data_all.csv')\n",
    "meta_data_all.head() # show the first five data entries"
   ]
  },
  {
   "cell_type": "markdown",
   "metadata": {
    "id": "DUE-u0NSMl7Z"
   },
   "source": [
    "Let's have a look at some population statistics."
   ]
  },
  {
   "cell_type": "code",
   "execution_count": 7,
   "metadata": {
    "colab": {
     "base_uri": "https://localhost:8080/",
     "height": 993
    },
    "id": "19j0Sd08Ml7Z",
    "outputId": "0a7ed728-7eec-403b-9202-2dfe066730b6",
    "scrolled": false
   },
   "outputs": [
    {
     "data": {
      "image/png": "[encoded data removed]",
      "text/plain": [
       "<Figure size 360x360 with 1 Axes>"
      ]
     },
     "metadata": {
      "needs_background": "light",
      "tags": []
     },
     "output_type": "display_data"
    },
    {
     "name": "stderr",
     "output_type": "stream",
     "text": [
      "/usr/local/lib/python3.7/dist-packages/seaborn/distributions.py:2557: FutureWarning: `distplot` is a deprecated function and will be removed in a future version. Please adapt your code to use either `displot` (a figure-level function with similar flexibility) or `histplot` (an axes-level function for histograms).\n",
      "  warnings.warn(msg, FutureWarning)\n"
     ]
    },
    {
     "data": {
      "image/png": "[encoded data removed]",
      "text/plain": [
       "<Figure size 432x288 with 1 Axes>"
      ]
     },
     "metadata": {
      "needs_background": "light",
      "tags": []
     },
     "output_type": "display_data"
    },
    {
     "data": {
      "image/png": "[encoded data removed]",
      "text/plain": [
       "<Figure size 432x288 with 1 Axes>"
      ]
     },
     "metadata": {
      "needs_background": "light",
      "tags": []
     },
     "output_type": "display_data"
    }
   ],
   "source": [
    "%matplotlib inline\n",
    "\n",
    "import matplotlib.pyplot as plt\n",
    "import seaborn as sns\n",
    "\n",
    "meta_data = meta_data_all\n",
    "\n",
    "sns.catplot(x=\"gender_text\", data=meta_data, kind=\"count\")\n",
    "plt.title('Gender distribution')\n",
    "plt.xlabel('Gender')\n",
    "plt.show()\n",
    "\n",
    "sns.distplot(meta_data['age'], bins=[10,20,30,40,50,60,70,80,90])\n",
    "plt.title('Age distribution')\n",
    "plt.xlabel('Age')\n",
    "plt.show()\n",
    "\n",
    "plt.scatter(range(len(meta_data['age'])),meta_data['age'], marker='.')\n",
    "plt.grid()\n",
    "plt.xlabel('Subject')\n",
    "plt.ylabel('Age')\n",
    "plt.show()"
   ]
  },
  {
   "cell_type": "markdown",
   "metadata": {
    "id": "yqh8SYTKMl7a"
   },
   "source": [
    "### Set up a simple medical image viewer and import SimpleITK"
   ]
  },
  {
   "cell_type": "code",
   "execution_count": 8,
   "metadata": {
    "id": "rspKXp0GMl7a"
   },
   "outputs": [],
   "source": [
    "import numpy as np\n",
    "import SimpleITK as sitk\n",
    "import matplotlib.pyplot as plt\n",
    "\n",
    "from ipywidgets import interact, fixed\n",
    "from IPython.display import display\n",
    "\n",
    "# Calculate parameters low and high from window and level\n",
    "def wl_to_lh(window, level):\n",
    "    low = level - window/2\n",
    "    high = level + window/2\n",
    "    return low,high\n",
    "\n",
    "def display_image(img, x=None, y=None, z=None, window=None, level=None, colormap='gray', crosshair=False):\n",
    "    # Convert SimpleITK image to NumPy array\n",
    "    img_array = sitk.GetArrayFromImage(img)\n",
    "    \n",
    "    # Get image dimensions in millimetres\n",
    "    size = img.GetSize()\n",
    "    spacing = img.GetSpacing()\n",
    "    width  = size[0] * spacing[0]\n",
    "    height = size[1] * spacing[1]\n",
    "    depth  = size[2] * spacing[2]\n",
    "    \n",
    "    if x is None:\n",
    "        x = np.floor(size[0]/2).astype(int)\n",
    "    if y is None:\n",
    "        y = np.floor(size[1]/2).astype(int)\n",
    "    if z is None:\n",
    "        z = np.floor(size[2]/2).astype(int)\n",
    "    \n",
    "    if window is None:\n",
    "        window = np.max(img_array) - np.min(img_array)\n",
    "    \n",
    "    if level is None:\n",
    "        level = window / 2 + np.min(img_array)\n",
    "    \n",
    "    low,high = wl_to_lh(window,level)\n",
    "\n",
    "    # Display the orthogonal slices\n",
    "    fig, (ax1, ax2, ax3) = plt.subplots(1, 3, figsize=(10, 4))\n",
    "\n",
    "    ax1.imshow(img_array[z,:,:], cmap=colormap, clim=(low, high), extent=(0, width, height, 0))\n",
    "    ax2.imshow(img_array[:,y,:], origin='lower', cmap=colormap, clim=(low, high), extent=(0, width,  0, depth))\n",
    "    ax3.imshow(img_array[:,:,x], origin='lower', cmap=colormap, clim=(low, high), extent=(0, height, 0, depth))\n",
    "\n",
    "    # Additionally display crosshairs\n",
    "    if crosshair:\n",
    "        ax1.axhline(y * spacing[1], lw=1)\n",
    "        ax1.axvline(x * spacing[0], lw=1)\n",
    "        ax2.axhline(z * spacing[2], lw=1)\n",
    "        ax2.axvline(x * spacing[0], lw=1)\n",
    "        ax3.axhline(z * spacing[2], lw=1)\n",
    "        ax3.axvline(y * spacing[1], lw=1)\n",
    "\n",
    "    plt.show()\n",
    "    \n",
    "def interactive_view(img):\n",
    "    size = img.GetSize() \n",
    "    img_array = sitk.GetArrayFromImage(img)\n",
    "    interact(display_image,img=fixed(img),\n",
    "             x=(0, size[0] - 1),\n",
    "             y=(0, size[1] - 1),\n",
    "             z=(0, size[2] - 1),\n",
    "             window=(0,np.max(img_array) - np.min(img_array)),\n",
    "             level=(np.min(img_array),np.max(img_array)));"
   ]
  },
  {
   "cell_type": "markdown",
   "metadata": {
    "id": "KQ8yg23gMl7a"
   },
   "source": [
    "### Imaging data\n",
    "\n",
    "Let's check out the imaging data that is available for each subject. This cell also shows how to retrieve data given a particular subject ID from the meta data."
   ]
  },
  {
   "cell_type": "code",
   "execution_count": 9,
   "metadata": {
    "colab": {
     "base_uri": "https://localhost:8080/",
     "height": 1000
    },
    "id": "6jjEZRlOMl7b",
    "outputId": "0e392ef3-09bd-43b1-e476-cdd95ee3f20f"
   },
   "outputs": [
    {
     "name": "stdout",
     "output_type": "stream",
     "text": [
      "Image (0x55722ad8e100)\n",
      "  RTTI typeinfo:   itk::Image<float, 3u>\n",
      "  Reference Count: 1\n",
      "  Modified Time: 964\n",
      "  Debug: Off\n",
      "  Object Name: \n",
      "  Observers: \n",
      "    none\n",
      "  Source: (none)\n",
      "  Source output name: (none)\n",
      "  Release Data: Off\n",
      "  Data Released: False\n",
      "  Global Release Data: Off\n",
      "  PipelineMTime: 942\n",
      "  UpdateMTime: 963\n",
      "  RealTimeStamp: 0 seconds \n",
      "  LargestPossibleRegion: \n",
      "    Dimension: 3\n",
      "    Index: [0, 0, 0]\n",
      "    Size: [98, 116, 94]\n",
      "  BufferedRegion: \n",
      "    Dimension: 3\n",
      "    Index: [0, 0, 0]\n",
      "    Size: [98, 116, 94]\n",
      "  RequestedRegion: \n",
      "    Dimension: 3\n",
      "    Index: [0, 0, 0]\n",
      "    Size: [98, 116, 94]\n",
      "  Spacing: [2, 2, 2]\n",
      "  Origin: [-99, -99, -71]\n",
      "  Direction: \n",
      "1 0 0\n",
      "0 1 0\n",
      "0 0 1\n",
      "\n",
      "  IndexToPointMatrix: \n",
      "2 0 0\n",
      "0 2 0\n",
      "0 0 2\n",
      "\n",
      "  PointToIndexMatrix: \n",
      "0.5 0 0\n",
      "0 0.5 0\n",
      "0 0 0.5\n",
      "\n",
      "  Inverse Direction: \n",
      "1 0 0\n",
      "0 1 0\n",
      "0 0 1\n",
      "\n",
      "  PixelContainer: \n",
      "    ImportImageContainer (0x55722b220640)\n",
      "      RTTI typeinfo:   itk::ImportImageContainer<unsigned long, float>\n",
      "      Reference Count: 1\n",
      "      Modified Time: 960\n",
      "      Debug: Off\n",
      "      Object Name: \n",
      "      Observers: \n",
      "        none\n",
      "      Pointer: 0x55722b3ce000\n",
      "      Container manages memory: true\n",
      "      Size: 1068592\n",
      "      Capacity: 1068592\n",
      "\n",
      "Imaging data of subject CC110033 with age 24\n",
      "\n",
      "MR Image\n"
     ]
    },
    {
     "data": {
      "image/png": "[encoded data removed]",
      "text/plain": [
       "<Figure size 720x288 with 3 Axes>"
      ]
     },
     "metadata": {
      "needs_background": "light",
      "tags": []
     },
     "output_type": "display_data"
    },
    {
     "name": "stdout",
     "output_type": "stream",
     "text": [
      "Brain mask\n"
     ]
    },
    {
     "data": {
      "image/png": "[encoded data removed]",
      "text/plain": [
       "<Figure size 720x288 with 3 Axes>"
      ]
     },
     "metadata": {
      "needs_background": "light",
      "tags": []
     },
     "output_type": "display_data"
    }
   ],
   "source": [
    "# Subject with index 0\n",
    "ID = meta_data['subject_id'][0]\n",
    "age = meta_data['age'][0]\n",
    "\n",
    "# Image\n",
    "image_filename = data_dir + 'images/sub-' + ID + '_T1w_unbiased.nii.gz'\n",
    "img = sitk.ReadImage(image_filename)\n",
    "\n",
    "print(img)\n",
    "\n",
    "# Mask\n",
    "mask_filename = data_dir + 'masks/sub-' + ID + '_T1w_brain_mask.nii.gz'\n",
    "msk = sitk.ReadImage(mask_filename)\n",
    "\n",
    "print('Imaging data of subject ' + ID + ' with age ' + str(age))\n",
    "\n",
    "print('\\nMR Image')\n",
    "display_image(img, window=400, level=200)\n",
    "\n",
    "print('Brain mask')\n",
    "display_image(msk)"
   ]
  },
  {
   "cell_type": "markdown",
   "metadata": {
    "id": "RvbCPZwzMl7c"
   },
   "source": [
    "## Part A: Age prediction using brain tissue segmentation and volume features\n",
    "\n",
    "The first approach aims to regress the age of a subject using the volumes of brain tissues as features. The brain tissues include grey matter (GM), white matter (WM), and cerebrospinal fluid (CSF). It is known that with increasing age the ventricles enlarge (filled with CSF), while it is assumed that grey and white matter volume may decrease over time. However, as overall brain volume varies across individuals, taking the absolute volumes of tissues might not be predictive. Instead, relative volumes need to be computed as the ratios between each tissue volume and overall brain volume. To this end, a four-class (GM, WM, CSF, and background) brain segmentation needs to be implemented which will be trained using a total of 52 subjects (47 for training, 5 for validation). The segmentation method is then applied to the remaining 600 brain scans which will be used to train and test the age regression. Brain masks are provided which have been generated with a state-of-the-art neuroimaging brain extraction tool.\n",
    "\n",
    "Different regression techniques should be explored, and it might be beneficial to investigate what the best set of features is for this task. Are all volume features equally useful, or is it even better to combine some of them and create new features. How does a simple linear regression perform compared to a model with higher order polynomials? Do you need regularisation? How about other regression methods such as regression trees, SVMs or neural networks? The accuracy of different methods should be evaluated using two-fold cross-validation on the set of 500 subjects, and average age prediction accuracy should be compared and reported appropriately. The final prediction accuracy will be evaluated on a hold-out set of 100 subjects.\n",
    "\n",
    "*Note:* If you struggle with task A-1, you can continue with A-2 using the provided reference segmentations in subfolder `segs_refs`."
   ]
  },
  {
   "cell_type": "markdown",
   "metadata": {
    "id": "FapDibCcMl7c"
   },
   "source": [
    "### TASK A-1: Brain tissue segmentation\n",
    "\n",
    "Implement a CNN model for brain tissue segmentation which can provide segmentations of GM, WM, and CSF. For this task (and only for this task), we provide a subset of 52 subjects which are split into 47 images for training and 5 for validation. The template code below has the data handling and main training routines already implemented, so you can focus on implementing a suitable CNN model. A simple model is provided, but this won't perform very well.\n",
    "\n",
    "Once your model is trained and you are happy with the results on the validation data you should apply it to the 500 subjects later used for training the age regressor. We provide reference segmentations in a subfolder `segs_refs` for all subjects. Calculate Dice similarity coefficients per tissue when comparing your predicted segmentations to the reference segmentations. Summarise the statistics of the 500 Dice scores for each tissue class in [box-and-whisker-plots](https://matplotlib.org/api/_as_gen/matplotlib.pyplot.boxplot.html).\n",
    "\n",
    "*Note:* Implementing a full-fledged machine learning pipeline with training and testing procedures in Jupyter notebooks is a bit cumbersome and a pain to debug. Also, running bigger training tasks can be unstable. The code below should work as is. However, if you want to get a bit more serious about implementing an advanced CNN approach for image segmentation, you may want to move code into separate Python scripts and run these from the terminal or an IDE such as [PyCharm](https://www.jetbrains.com/pycharm/)."
   ]
  },
  {
   "cell_type": "markdown",
   "metadata": {
    "id": "HO0oPFxxMl7c"
   },
   "source": [
    "#### Imports"
   ]
  },
  {
   "cell_type": "code",
   "execution_count": 10,
   "metadata": {
    "id": "A91zKLDFMl7d"
   },
   "outputs": [],
   "source": [
    "import os\n",
    "import torch\n",
    "import torch.nn as nn\n",
    "import torch.nn.functional as F\n",
    "from torch.utils.data import Dataset, DataLoader\n",
    "from tqdm import tqdm"
   ]
  },
  {
   "cell_type": "markdown",
   "metadata": {
    "id": "lEWxaWYYMl7d"
   },
   "source": [
    "#### Data Helpers"
   ]
  },
  {
   "cell_type": "code",
   "execution_count": 11,
   "metadata": {
    "id": "kunTgg6kMl7d"
   },
   "outputs": [],
   "source": [
    "def display_image(img, x=None, y=None, z=None, window=None, level=None):\n",
    "    # Convert SimpleITK image to NumPy array\n",
    "    img_array = sitk.GetArrayFromImage(img)\n",
    "    \n",
    "    # Get image dimensions in millimetres\n",
    "    size = img.GetSize()\n",
    "    spacing = img.GetSpacing()\n",
    "    width  = size[0] * spacing[0]\n",
    "    height = size[1] * spacing[1]\n",
    "    depth  = size[2] * spacing[2]\n",
    "    \n",
    "    if x is None:\n",
    "        x = np.floor(size[0]/2).astype(int)\n",
    "    if y is None:\n",
    "        y = np.floor(size[1]/2).astype(int)\n",
    "    if z is None:\n",
    "        z = np.floor(size[2]/2).astype(int)\n",
    "    \n",
    "    if window is None:\n",
    "        window = np.max(img_array) - np.min(img_array)\n",
    "    \n",
    "    if level is None:\n",
    "        level = window / 2 + np.min(img_array)\n",
    "    \n",
    "    low,high = wl_to_lh(window,level)\n",
    "\n",
    "    # Display the orthogonal slices\n",
    "    fig, (ax1, ax2, ax3) = plt.subplots(1, 3, figsize=(10, 4))\n",
    "\n",
    "    ax1.imshow(img_array[z,:,:], cmap='gray', clim=(low, high), extent=(0, width, height, 0))\n",
    "    ax2.imshow(img_array[:,y,:], origin='lower', cmap='gray', clim=(low, high), extent=(0, width,  0, depth))\n",
    "    ax3.imshow(img_array[:,:,x], origin='lower', cmap='gray', clim=(low, high), extent=(0, height, 0, depth))\n",
    "\n",
    "    # Additionally display crosshairs\n",
    "    ax1.axhline(y * spacing[1], lw=1)\n",
    "    ax1.axvline(x * spacing[0], lw=1)\n",
    "    \n",
    "    ax2.axhline(z * spacing[2], lw=1)\n",
    "    ax2.axvline(x * spacing[0], lw=1)\n",
    "    \n",
    "    ax3.axhline(z * spacing[2], lw=1)\n",
    "    ax3.axvline(y * spacing[1], lw=1)\n",
    "\n",
    "    plt.show()"
   ]
  },
  {
   "cell_type": "code",
   "execution_count": 12,
   "metadata": {
    "id": "C8VEwZQ-Ml7e"
   },
   "outputs": [],
   "source": [
    "def zero_mean_unit_var(image, mask):\n",
    "    \"\"\"Normalizes an image to zero mean and unit variance.\"\"\"\n",
    "\n",
    "    img_array = sitk.GetArrayFromImage(image)\n",
    "    img_array = img_array.astype(np.float32)\n",
    "\n",
    "    msk_array = sitk.GetArrayFromImage(mask)\n",
    "\n",
    "    mean = np.mean(img_array[msk_array>0])\n",
    "    std = np.std(img_array[msk_array>0])\n",
    "\n",
    "    if std > 0:\n",
    "        img_array = (img_array - mean) / std\n",
    "        img_array[msk_array==0] = 0\n",
    "\n",
    "    image_normalised = sitk.GetImageFromArray(img_array)\n",
    "    image_normalised.CopyInformation(image)\n",
    "\n",
    "    return image_normalised\n",
    "\n",
    "\n",
    "def resample_image(image, out_spacing=(1.0, 1.0, 1.0), out_size=None, is_label=False, pad_value=0):\n",
    "    \"\"\"Resamples an image to given element spacing and output size.\"\"\"\n",
    "\n",
    "    original_spacing = np.array(image.GetSpacing())\n",
    "    original_size = np.array(image.GetSize())\n",
    "\n",
    "    if out_size is None:\n",
    "        out_size = np.round(np.array(original_size * original_spacing / np.array(out_spacing))).astype(int)\n",
    "    else:\n",
    "        out_size = np.array(out_size)\n",
    "\n",
    "    original_direction = np.array(image.GetDirection()).reshape(len(original_spacing),-1)\n",
    "    original_center = (np.array(original_size, dtype=float) - 1.0) / 2.0 * original_spacing\n",
    "    out_center = (np.array(out_size, dtype=float) - 1.0) / 2.0 * np.array(out_spacing)\n",
    "\n",
    "    original_center = np.matmul(original_direction, original_center)\n",
    "    out_center = np.matmul(original_direction, out_center)\n",
    "    out_origin = np.array(image.GetOrigin()) + (original_center - out_center)\n",
    "\n",
    "    resample = sitk.ResampleImageFilter()\n",
    "    resample.SetOutputSpacing(out_spacing)\n",
    "    resample.SetSize(out_size.tolist())\n",
    "    resample.SetOutputDirection(image.GetDirection())\n",
    "    resample.SetOutputOrigin(out_origin.tolist())\n",
    "    resample.SetTransform(sitk.Transform())\n",
    "    resample.SetDefaultPixelValue(pad_value)\n",
    "\n",
    "    if is_label:\n",
    "        resample.SetInterpolator(sitk.sitkNearestNeighbor)\n",
    "    else:\n",
    "        resample.SetInterpolator(sitk.sitkBSpline)\n",
    "\n",
    "    return resample.Execute(image)\n",
    "\n",
    "\n",
    "class ImageSegmentationDataset(Dataset):\n",
    "    \"\"\"Dataset for image segmentation.\"\"\"\n",
    "\n",
    "    def __init__(self, file_list_img, file_list_seg, file_list_msk, img_spacing, img_size):\n",
    "        self.samples = []\n",
    "        self.img_names = []\n",
    "        self.seg_names = []\n",
    "        for idx, _ in enumerate(tqdm(range(len(file_list_img)), desc='Loading Data')):\n",
    "            img_path = file_list_img[idx]\n",
    "            seg_path = file_list_seg[idx]\n",
    "            msk_path = file_list_msk[idx]\n",
    "\n",
    "            img = sitk.ReadImage(img_path, sitk.sitkFloat32)\n",
    "\n",
    "            seg = sitk.ReadImage(seg_path, sitk.sitkInt64)\n",
    "\n",
    "            msk = sitk.ReadImage(msk_path, sitk.sitkUInt8)\n",
    "\n",
    "            #pre=processing\n",
    "            img = zero_mean_unit_var(img, msk)\n",
    "            img = resample_image(img, img_spacing, img_size, is_label=False)\n",
    "            seg = resample_image(seg, img_spacing, img_size, is_label=True)\n",
    "            msk = resample_image(msk, img_spacing, img_size, is_label=True)\n",
    "            \n",
    "            # print('Image resampled:', img.GetSize(), img.GetSpacing())\n",
    "\n",
    "            sample = {'img': img, 'seg': seg, 'msk': msk}\n",
    "\n",
    "            self.samples.append(sample)\n",
    "            self.img_names.append(os.path.basename(img_path))\n",
    "            self.seg_names.append(os.path.basename(seg_path))\n",
    "\n",
    "    def __len__(self):\n",
    "        return len(self.samples)\n",
    "\n",
    "    def __getitem__(self, item):\n",
    "        sample = self.samples[item]\n",
    "\n",
    "        image = torch.from_numpy(sitk.GetArrayFromImage(sample['img'])).unsqueeze(0)\n",
    "        seg = torch.from_numpy(sitk.GetArrayFromImage(sample['seg'])).unsqueeze(0)\n",
    "        msk = torch.from_numpy(sitk.GetArrayFromImage(sample['msk'])).unsqueeze(0)\n",
    "\n",
    "        return {'img': image, 'seg': seg, 'msk': msk}\n",
    "\n",
    "    def get_sample(self, item):\n",
    "        return self.samples[item]\n",
    "\n",
    "    def get_img_name(self, item):\n",
    "        return self.img_names[item]\n",
    "\n",
    "    def get_seg_name(self, item):\n",
    "        return self.seg_names[item]\n"
   ]
  },
  {
   "cell_type": "markdown",
   "metadata": {
    "id": "PitdbAX8Ml7e"
   },
   "source": [
    "#### Check that the GPU is up and running"
   ]
  },
  {
   "cell_type": "code",
   "execution_count": 13,
   "metadata": {
    "colab": {
     "base_uri": "https://localhost:8080/"
    },
    "id": "A01cZbrEMl7e",
    "outputId": "204d2b41-d324-44a4-dfde-6a60d27652aa"
   },
   "outputs": [
    {
     "name": "stdout",
     "output_type": "stream",
     "text": [
      "Device: cuda:0\n",
      "GPU: Tesla P100-PCIE-16GB\n"
     ]
    }
   ],
   "source": [
    "cuda_dev = '0' #GPU device 0 (can be changed if multiple GPUs are available)\n",
    "\n",
    "use_cuda = torch.cuda.is_available()\n",
    "device = torch.device(\"cuda:\" + cuda_dev if use_cuda else \"cpu\")\n",
    "\n",
    "print('Device: ' + str(device))\n",
    "if use_cuda:\n",
    "    print('GPU: ' + str(torch.cuda.get_device_name(int(cuda_dev))))        "
   ]
  },
  {
   "cell_type": "markdown",
   "metadata": {
    "id": "4-_qnXBuMl7e"
   },
   "source": [
    "#### Config and hyper-parameters\n",
    "\n",
    "Here we set some default hyper-parameters and a starting configuration for the image resolution and others.\n",
    "\n",
    "**TASK: This needs to be revisited to optimise these values. In particular, you may want to run your final model on higher resolution images.**"
   ]
  },
  {
   "cell_type": "code",
   "execution_count": 172,
   "metadata": {
    "id": "ZeBaCpcwMl7f"
   },
   "outputs": [],
   "source": [
    "rnd_seed = 42 #fixed random seed\n",
    "\n",
    "img_size = [128, 128, 128]\n",
    "img_spacing = [1.5, 1.5, 1.5]\n",
    "\n",
    "num_epochs = 20\n",
    "learning_rate = 0.001\n",
    "batch_size = 2\n",
    "val_interval = 10\n",
    "\n",
    "num_classes = 4\n",
    "\n",
    "out_dir = './output'\n",
    "\n",
    "# Create output directory\n",
    "if not os.path.exists(out_dir):\n",
    "    os.makedirs(out_dir)"
   ]
  },
  {
   "cell_type": "markdown",
   "metadata": {
    "id": "eXwS-xXNMl7f"
   },
   "source": [
    "#### Loading and pre-processing of training and validation data"
   ]
  },
  {
   "cell_type": "code",
   "execution_count": 173,
   "metadata": {
    "id": "_n02JlGGMl7f"
   },
   "outputs": [],
   "source": [
    "meta_data_seg_train = pd.read_csv(data_dir + 'meta/meta_data_segmentation_train.csv')\n",
    "ids_seg_train = list(meta_data_seg_train['subject_id'])\n",
    "files_seg_img_train = [data_dir + 'images/sub-' + f + '_T1w_unbiased.nii.gz' for f in ids_seg_train]\n",
    "files_seg_seg_train = [data_dir + 'segs_refs/sub-' + f + '_T1w_seg.nii.gz' for f in ids_seg_train]\n",
    "files_seg_msk_train = [data_dir + 'masks/sub-' + f + '_T1w_brain_mask.nii.gz' for f in ids_seg_train]\n",
    "\n",
    "meta_data_seg_val = pd.read_csv(data_dir + 'meta/meta_data_segmentation_val.csv')\n",
    "ids_seg_val = list(meta_data_seg_val['subject_id'])\n",
    "files_seg_img_val = [data_dir + 'images/sub-' + f + '_T1w_unbiased.nii.gz' for f in ids_seg_val]\n",
    "files_seg_seg_val = [data_dir + 'segs_refs/sub-' + f + '_T1w_seg.nii.gz' for f in ids_seg_val]\n",
    "files_seg_msk_val = [data_dir + 'masks/sub-' + f + '_T1w_brain_mask.nii.gz' for f in ids_seg_val]"
   ]
  },
  {
   "cell_type": "markdown",
   "metadata": {
    "id": "CtYWHv9uMl7f"
   },
   "source": [
    "We apply some standard pre-processing on the data such as intensity normalization (zero mean unit variance) and downsampling according to the configuration above.\n",
    "\n",
    "**You may want to use initially the validation data with 5 subjects for training which is more efficient when debugging your training routine and model implementation. Make sure to later train your final model on the actual training data.**"
   ]
  },
  {
   "cell_type": "code",
   "execution_count": 174,
   "metadata": {
    "colab": {
     "base_uri": "https://localhost:8080/"
    },
    "id": "uayy6p5oMl7f",
    "outputId": "725ce7b0-0c6d-453b-c398-4ca5781f535c"
   },
   "outputs": [
    {
     "name": "stderr",
     "output_type": "stream",
     "text": [
      "Loading Data: 100%|██████████| 47/47 [00:36<00:00,  1.28it/s]\n",
      "Loading Data: 100%|██████████| 5/5 [00:03<00:00,  1.29it/s]\n"
     ]
    }
   ],
   "source": [
    "# LOAD TRAINING DATA\n",
    "dataset_train = ImageSegmentationDataset(files_seg_img_train, files_seg_seg_train, files_seg_msk_train, img_spacing, img_size)\n",
    "# FOR QUICK DEBUGGING, USE THE VALIDATION DATA FOR TRAINING\n",
    "#dataset_train = ImageSegmentationDataset(files_seg_img_val, files_seg_seg_val, files_seg_msk_val, img_spacing, img_size)\n",
    "dataloader_train = torch.utils.data.DataLoader(dataset_train, batch_size=batch_size, shuffle=True)\n",
    "\n",
    "# LOAD VALIDATION DATA\n",
    "dataset_val = ImageSegmentationDataset(files_seg_img_val, files_seg_seg_val, files_seg_msk_val, img_spacing, img_size)\n",
    "dataloader_val = torch.utils.data.DataLoader(dataset_val, batch_size=1, shuffle=False)"
   ]
  },
  {
   "cell_type": "markdown",
   "metadata": {
    "id": "ByP7QGXsMl7g"
   },
   "source": [
    "#### Visualise training example\n",
    "\n",
    "Just to check how a training image looks like after pre-processing."
   ]
  },
  {
   "cell_type": "code",
   "execution_count": 175,
   "metadata": {
    "colab": {
     "base_uri": "https://localhost:8080/",
     "height": 666
    },
    "id": "eqgBUykiMl7g",
    "outputId": "deb6bd77-5a51-4e60-97c3-bb6233216265"
   },
   "outputs": [
    {
     "name": "stdout",
     "output_type": "stream",
     "text": [
      "Image: sub-CC221040_T1w_unbiased.nii.gz\n"
     ]
    },
    {
     "data": {
      "image/png": "[encoded data removed]",
      "text/plain": [
       "<Figure size 720x288 with 3 Axes>"
      ]
     },
     "metadata": {
      "needs_background": "light",
      "tags": []
     },
     "output_type": "display_data"
    },
    {
     "name": "stdout",
     "output_type": "stream",
     "text": [
      "Segmentation\n"
     ]
    },
    {
     "data": {
      "image/png": "[encoded data removed]",
      "text/plain": [
       "<Figure size 720x288 with 3 Axes>"
      ]
     },
     "metadata": {
      "needs_background": "light",
      "tags": []
     },
     "output_type": "display_data"
    },
    {
     "name": "stdout",
     "output_type": "stream",
     "text": [
      "Mask\n"
     ]
    },
    {
     "data": {
      "image/png": "[encoded data removed]",
      "text/plain": [
       "<Figure size 720x288 with 3 Axes>"
      ]
     },
     "metadata": {
      "needs_background": "light",
      "tags": []
     },
     "output_type": "display_data"
    }
   ],
   "source": [
    "sample = dataset_train.get_sample(0)\n",
    "img_name = dataset_train.get_img_name(0)\n",
    "seg_name = dataset_train.get_seg_name(0)\n",
    "print('Image: ' + img_name)\n",
    "display_image(sample['img'], window=5, level=0)\n",
    "print('Segmentation')\n",
    "display_image(sitk.LabelToRGB(sample['seg']))\n",
    "print('Mask')\n",
    "display_image(sample['msk'])"
   ]
  },
  {
   "cell_type": "markdown",
   "metadata": {
    "id": "4bQdAR3eMl7g"
   },
   "source": [
    "#### The Model\n",
    "\n",
    "**TASK:** This is the **key part of task A-1** where you have to design a suitable CNN model for brain segmentation. The simple model provided below works to some degree (it let's you run through the upcoming cells), but it will not perform very well. Use what you learned in the lectures to come up with a good architecture. Start with a simple, shallow model and only increase complexity (e.g., number of layers) if needed."
   ]
  },
  {
   "cell_type": "code",
   "execution_count": 18,
   "metadata": {
    "id": "xGkiyIHkMl7g"
   },
   "outputs": [],
   "source": [
    "########################################\n",
    "# BUILD A BETTER MODEL HERE\n",
    "########################################\n",
    "\n",
    "class SimpleNet3D(nn.Module):\n",
    "\n",
    "    def __init__(self, num_classes):\n",
    "        super(SimpleNet3D, self).__init__()\n",
    "        self.conv1 = nn.Conv3d(1, 4, kernel_size=3, padding=1)\n",
    "        self.conv2 = nn.Conv3d(4, num_classes, kernel_size=3, padding=1)\n",
    "\n",
    "    def forward(self, x):\n",
    "        x = F.relu(self.conv1(x))\n",
    "        x = self.conv2(x)\n",
    "        \n",
    "        return x # cross-entropy loss expects raw logits and applies softmax"
   ]
  },
  {
   "cell_type": "code",
   "execution_count": 137,
   "metadata": {
    "id": "wFX3PTZoMl7h"
   },
   "outputs": [],
   "source": [
    "########################################\n",
    "# BUILD A BETTER MODEL HERE\n",
    "########################################\n",
    "\n",
    "class ConvUnit(nn.Module):\n",
    "    \n",
    "    def __init__(self, _in, _out, kernel_size, third_conv=False, pooling=True):\n",
    "        super(ConvUnit, self).__init__()\n",
    "        \n",
    "        self.third_conv = third_conv\n",
    "        self.pooling = pooling\n",
    "\n",
    "        self.conv1 = nn.Conv3d(_in, _out, kernel_size)\n",
    "        self.conv2 = nn.Conv3d(_out, _out, kernel_size)\n",
    "        if self.third_conv:\n",
    "            self.conv3 = nn.Conv3d(_out, _out, kernel_size)\n",
    "        if self.pooling:\n",
    "            self.max_pool = nn.MaxPool3d(kernel_size=2, stride=2)\n",
    "        self.activ = nn.ReLU()\n",
    "        \n",
    "    def forward(self, x):\n",
    "        x = self.conv1(x)\n",
    "        x = self.conv2(x)\n",
    "        if self.third_conv:\n",
    "            x = self.conv3(x)\n",
    "        if self.pooling:\n",
    "            x = self.max_pool(x)\n",
    "        x = self.activ(x)\n",
    "        return x\n",
    "    \n",
    "class UpsampleConvUnit(nn.Module):\n",
    "    \n",
    "    def __init__(self, _in, _out, kernel_size, output_dim=None, scale_factor=2, third_conv=False):\n",
    "        super(UpsampleConvUnit, self).__init__()\n",
    "        \n",
    "        self.third_conv = third_conv\n",
    "\n",
    "        if output_dim is not None:\n",
    "            if kernel_size == 5:\n",
    "                const = 8\n",
    "            else:\n",
    "                const = 3\n",
    "            self.upsample = nn.Upsample(output_dim + const)\n",
    "        else:\n",
    "            self.upsample = nn.Upsample(scale_factor=scale_factor)\n",
    "\n",
    "        self.conv1 = nn.Conv3d(_in, _out, kernel_size=kernel_size)\n",
    "        self.conv2 = nn.Conv3d(_out, _out, kernel_size=kernel_size)\n",
    "        if self.third_conv:\n",
    "            self.conv3 = nn.Conv3d(_out, _out, kernel_size=kernel_size)\n",
    "        self.activ = nn.ReLU()\n",
    "    \n",
    "    def forward(self, x):\n",
    "        x = self.upsample(x)\n",
    "        # print(x.shape)\n",
    "        x = self.conv1(x)\n",
    "        # print(x.shape)\n",
    "        x = self.conv2(x)\n",
    "        if self.third_conv:\n",
    "            x = self.conv3(x)\n",
    "        # print(x.shape)\n",
    "        x = self.activ(x)\n",
    "        return x\n",
    "\n",
    "class TransposeConvUnit(nn.Module):\n",
    "    \n",
    "    def __init__(self, _in, _out, kernel_size):\n",
    "        super(TransposeConvUnit, self).__init__()\n",
    "        \n",
    "        # self.tconv = nn.ConvTranspose3d(_in, _out, kernel_size=kernel_size, stride=2)\n",
    "        self.conv = nn.Conv3d(_out, _out, kernel_size=kernel_size)\n",
    "        self.activ = nn.ReLU()\n",
    "        \n",
    "    def forward(self, x):\n",
    "        return self.activ(self.conv(self.tconv(x)))\n",
    "    \n",
    "    \n",
    "class Encoder(nn.Module):\n",
    "    \n",
    "    def __init__(self, filters, kernel_size, third_conv, pooling):\n",
    "        super(Encoder, self).__init__()\n",
    "\n",
    "        assert len(third_conv) == len(filters)\n",
    "        \n",
    "        self.layers = nn.ModuleList([\n",
    "            ConvUnit(_in, _out, kernel_size, _third_conv, pooling)\n",
    "            for _in, _out, _third_conv in zip(filters, filters[1:], third_conv)\n",
    "        ])\n",
    "        \n",
    "    def forward(self, x):\n",
    "        for i, l in enumerate(self.layers):\n",
    "            x = self.layers[i](x)\n",
    "        return x\n",
    "\n",
    "class Decoder(nn.Module):\n",
    "    \n",
    "    def __init__(self, filters, kernel_size, third_conv):\n",
    "        super(Decoder, self).__init__()\n",
    "        \n",
    "        self.layers = nn.ModuleList([\n",
    "            UpsampleConvUnit(_in, _out, kernel_size, _third_conv)\n",
    "            for _in, _out, _third_conv in zip(filters, filters[1:], third_conv)\n",
    "        ])\n",
    "        \n",
    "    def forward(self, x):\n",
    "        for i in range(len(self.layers)):\n",
    "            x = self.layers[i](x)\n",
    "        return x\n",
    "    \n",
    "\n",
    "class SegModel(nn.Module):\n",
    "    \n",
    "    def __init__(self, encoder, decoder):\n",
    "        super(SegModel, self).__init__()\n",
    "        \n",
    "        self.enc = encoder\n",
    "        self.dec = decoder\n",
    "    \n",
    "    def forward(self, x, display=False):\n",
    "        enc = self.enc(x)\n",
    "        if display:\n",
    "            print('Enc output:', enc.shape)\n",
    "        out = self.dec(enc)\n",
    "        # out = F.upsample(out, scale_factor=2)\n",
    "        return out"
   ]
  },
  {
   "cell_type": "code",
   "execution_count": 181,
   "metadata": {
    "colab": {
     "base_uri": "https://localhost:8080/"
    },
    "id": "BpSUitYsMl7h",
    "outputId": "46848eba-d53f-46ae-c6b5-b3278388f077"
   },
   "outputs": [
    {
     "name": "stdout",
     "output_type": "stream",
     "text": [
      "Enc output: torch.Size([1, 30, 4, 4, 4])\n",
      "torch.Size([1, 4, 128, 128, 128]) torch.Size([1, 1, 128, 128, 128])\n"
     ]
    }
   ],
   "source": [
    "# Sanity Check\n",
    "test_img = dataset_val[0]['img'].unsqueeze(0)\n",
    "# enc = Encoder([1, 15, 15, 30, 30], 3)\n",
    "# enc = Encoder([1, 15, 15, 30, 30], 3, [False, False, False, False, False])\n",
    "enc = Encoder([1, 15, 30], 5, [False, True, True], True)\n",
    "# print(enc)\n",
    "# dec = Decoder([30, 15, 4], 3, [True, True, False])\n",
    "# print(dec)\n",
    "dec = UpsampleConvUnit(30, 4, output_dim=img_size[-1], kernel_size=5)\n",
    "model = SegModel(enc, dec)\n",
    "mask = model(test_img, True)\n",
    "\n",
    "print(mask.shape, test_img.shape)\n",
    "\n",
    "assert mask.shape[1] == num_classes\n",
    "assert mask.shape[2:] == test_img.shape[2:]"
   ]
  },
  {
   "cell_type": "code",
   "execution_count": 178,
   "metadata": {
    "colab": {
     "base_uri": "https://localhost:8080/"
    },
    "id": "wJO9tUMYMl7h",
    "outputId": "abdd8af1-3419-4242-de87-eb8e2e14266b"
   },
   "outputs": [
    {
     "name": "stdout",
     "output_type": "stream",
     "text": [
      "Total parameters: 96538\n"
     ]
    },
    {
     "data": {
      "text/plain": [
       "SegModel(\n",
       "  (enc): Encoder(\n",
       "    (layers): ModuleList(\n",
       "      (0): ConvUnit(\n",
       "        (conv1): Conv3d(1, 15, kernel_size=(3, 3, 3), stride=(1, 1, 1))\n",
       "        (conv2): Conv3d(15, 15, kernel_size=(3, 3, 3), stride=(1, 1, 1))\n",
       "        (max_pool): MaxPool3d(kernel_size=2, stride=2, padding=0, dilation=1, ceil_mode=False)\n",
       "        (activ): ReLU()\n",
       "      )\n",
       "      (1): ConvUnit(\n",
       "        (conv1): Conv3d(15, 15, kernel_size=(3, 3, 3), stride=(1, 1, 1))\n",
       "        (conv2): Conv3d(15, 15, kernel_size=(3, 3, 3), stride=(1, 1, 1))\n",
       "        (max_pool): MaxPool3d(kernel_size=2, stride=2, padding=0, dilation=1, ceil_mode=False)\n",
       "        (activ): ReLU()\n",
       "      )\n",
       "      (2): ConvUnit(\n",
       "        (conv1): Conv3d(15, 30, kernel_size=(3, 3, 3), stride=(1, 1, 1))\n",
       "        (conv2): Conv3d(30, 30, kernel_size=(3, 3, 3), stride=(1, 1, 1))\n",
       "        (conv3): Conv3d(30, 30, kernel_size=(3, 3, 3), stride=(1, 1, 1))\n",
       "        (max_pool): MaxPool3d(kernel_size=2, stride=2, padding=0, dilation=1, ceil_mode=False)\n",
       "        (activ): ReLU()\n",
       "      )\n",
       "    )\n",
       "  )\n",
       "  (dec): UpsampleConvUnit(\n",
       "    (upsample): Upsample(size=136, mode=nearest)\n",
       "    (conv1): Conv3d(30, 4, kernel_size=(5, 5, 5), stride=(1, 1, 1))\n",
       "    (conv2): Conv3d(4, 4, kernel_size=(5, 5, 5), stride=(1, 1, 1))\n",
       "    (activ): ReLU()\n",
       "  )\n",
       ")"
      ]
     },
     "execution_count": 178,
     "metadata": {
      "tags": []
     },
     "output_type": "execute_result"
    }
   ],
   "source": [
    "print('Total parameters:', sum(p.numel() for p in model.parameters()))\n",
    "model"
   ]
  },
  {
   "cell_type": "markdown",
   "metadata": {
    "id": "v0cDAYKPMl7h"
   },
   "source": [
    "#### TRAINING\n",
    "\n",
    "Below is an implementation of a full training procedure including a loop for intermediate evaluation of the model on the validation data. Feel free to modify this procedure. For example, in addition to the loss you may want to monitor Dice scores (or others)."
   ]
  },
  {
   "cell_type": "code",
   "execution_count": 66,
   "metadata": {
    "id": "Ih8DKl5lMl7h"
   },
   "outputs": [],
   "source": [
    "class MetricsStore:\n",
    "    \n",
    "    def __init__(self):\n",
    "        self.reset()\n",
    "\n",
    "    def calc_seg_metrics(self, ref, seg, display=False):\n",
    "        overlap_measures_filter = sitk.LabelOverlapMeasuresImageFilter()\n",
    "        hausdorff_distance_filter = sitk.HausdorffDistanceImageFilter()\n",
    "\n",
    "        ref_contour = sitk.LabelContour(ref)\n",
    "        seg_contour = sitk.LabelContour(seg)\n",
    "\n",
    "        overlap_measures_filter.Execute(ref, seg)\n",
    "        # hausdorff_distance_filter.Execute(ref_contour, seg_contour)\n",
    "\n",
    "        ji = overlap_measures_filter.GetJaccardCoefficient()\n",
    "        dsc = overlap_measures_filter.GetDiceCoefficient()\n",
    "        hd = 0  # hausdorff_distance_filter.GetHausdorffDistance()\n",
    "        asd = 0  # hausdorff_distance_filter.GetAverageHausdorffDistance()\n",
    "        \n",
    "        self.ji.append(ji)\n",
    "        self.dsc.append(dsc)\n",
    "        self.hd.append(hd)\n",
    "        self.asd.append(asd)\n",
    "\n",
    "        if display:\n",
    "            print('JI\\t' + str(ji))\n",
    "            print('DSC\\t' + str(dsc))\n",
    "            print('HD\\t' + str(hd))\n",
    "            print('ASD\\t' + str(asd))\n",
    "        \n",
    "        self.count += 1\n",
    "\n",
    "        return ji, dsc, hd, asd\n",
    "\n",
    "    def get_averages(self, dp=4):\n",
    "        return np.round(sum(self.ji) / self.count, dp), \\\n",
    "                np.round(sum(self.dsc) / self.count, dp), \\\n",
    "                np.round(sum(self.hd) / self.count, dp), \\\n",
    "                np.round(sum(self.asd) / self.count, dp),\n",
    "    \n",
    "    def reset(self):\n",
    "        self.ji = []\n",
    "        self.dsc = []\n",
    "        self.hd = []\n",
    "        self.asd = []\n",
    "        self.count = 0"
   ]
  },
  {
   "cell_type": "code",
   "execution_count": 186,
   "metadata": {
    "id": "a8A0lNLTMl7h"
   },
   "outputs": [],
   "source": [
    "model_dir = os.path.join(out_dir, 'model')\n",
    "\n",
    "if not os.path.exists(model_dir):\n",
    "    os.makedirs(model_dir)\n",
    "\n",
    "torch.manual_seed(rnd_seed) #fix random seed\n",
    "\n",
    "num_epochs = 40\n",
    "learning_rate = 0.00001\n",
    "\n",
    "# Model 1\n",
    "# model = SimpleNet3D(num_classes=num_classes).to(device)\n",
    "\n",
    "# Model 2\n",
    "# filters = [1, 15, 30]\n",
    "# kernel_size = 5\n",
    "# enc = Encoder(filters=filters, kernel_size=3).to(device)\n",
    "# dec = UpsampleConvUnit(_in=filters[-1], _out=num_classes, kernel_size=5, output_dim=96).to(device)\n",
    "# model = SegModel(enc, dec).to(device)\n",
    "\n",
    "# Model 3\n",
    "filters = [1, 15, 30]\n",
    "enc = Encoder(filters, 5, [False, True, True])\n",
    "dec = UpsampleConvUnit(_in=filters[-1], _out=num_classes, kernel_size=5, output_dim=img_size[-1]).to(device)\n",
    "model = SegModel(enc, dec).to(device)\n",
    "\n",
    "# # Model 3\n",
    "# filters = [1, 15, 30]\n",
    "# enc = Encoder(filters, 3, [False, True, True])\n",
    "# dec = UpsampleConvUnit(_in=filters[-1], _out=num_classes, kernel_size=5, output_dim=96).to(device)\n",
    "# model = SegModel(enc, dec).to(device)\n",
    "\n",
    "model.train()\n",
    "    \n",
    "optimizer = torch.optim.Adam(model.parameters(), lr=learning_rate)"
   ]
  },
  {
   "cell_type": "code",
   "execution_count": 187,
   "metadata": {
    "id": "BhdBoOmM2q34"
   },
   "outputs": [],
   "source": [
    "# for g in optimizer.param_groups:\n",
    "#     g['lr'] = 0.00001"
   ]
  },
  {
   "cell_type": "code",
   "execution_count": null,
   "metadata": {
    "colab": {
     "base_uri": "https://localhost:8080/",
     "height": 476
    },
    "id": "t6cScveJMl7i",
    "outputId": "4c907d07-9382-452f-d914-a8e8767dea29",
    "scrolled": false
   },
   "outputs": [
    {
     "name": "stdout",
     "output_type": "stream",
     "text": [
      "START TRAINING...\n",
      "+ TRAINING \tEpoch: 1 \tLoss: 0.232804\n",
      "+   ASD: 0.0, JI: 0.4126, HD: 0.0, DSC: 0.5842\n",
      "--------------------------------------------------\n",
      "+ VALIDATE \tEpoch: 1 \tLoss: 0.213635\n",
      "+   ASD: 0.0, JI: 0.4503, HD: 0.0, DSC: 0.6208\n"
     ]
    },
    {
     "data": {
      "image/png": "[encoded data removed]",
      "text/plain": [
       "<Figure size 720x288 with 3 Axes>"
      ]
     },
     "metadata": {
      "needs_background": "light",
      "tags": []
     },
     "output_type": "display_data"
    },
    {
     "name": "stdout",
     "output_type": "stream",
     "text": [
      "--------------------------------------------------\n",
      "+ TRAINING \tEpoch: 2 \tLoss: 0.226028\n",
      "+   ASD: 0.0, JI: 0.4513, HD: 0.0, DSC: 0.6219\n",
      "+ TRAINING \tEpoch: 3 \tLoss: 0.196776\n",
      "+   ASD: 0.0, JI: 0.4623, HD: 0.0, DSC: 0.6323\n",
      "+ TRAINING \tEpoch: 4 \tLoss: 0.199927\n",
      "+   ASD: 0.0, JI: 0.4519, HD: 0.0, DSC: 0.6224\n",
      "+ TRAINING \tEpoch: 5 \tLoss: 0.197388\n",
      "+   ASD: 0.0, JI: 0.445, HD: 0.0, DSC: 0.616\n"
     ]
    }
   ],
   "source": [
    "from torch.optim.lr_scheduler import MultiStepLR\n",
    "\n",
    "loss_train_log = []\n",
    "loss_val_log = []\n",
    "epoch_val_log = []\n",
    "\n",
    "metrics_store = MetricsStore()\n",
    "\n",
    "# scheduler = MultiStepLR(optimizer, [10], gamma=0.1, last_epoch=-1, verbose=True)\n",
    "\n",
    "print('START TRAINING...')\n",
    "for epoch in range(1, num_epochs + 1):\n",
    "    \n",
    "    # scheduler.step()\n",
    "\n",
    "    # Training\n",
    "    for batch_idx, batch_samples in enumerate(dataloader_train):\n",
    "        img, seg = batch_samples['img'].to(device), batch_samples['seg'].to(device)\n",
    "        optimizer.zero_grad()\n",
    "        prd = model(img)\n",
    "        loss = F.cross_entropy(prd, seg.squeeze(1))\n",
    "        loss.backward()\n",
    "        optimizer.step()\n",
    "        \n",
    "    # print(img.shape, seg.shape, prd.shape)\n",
    "    \n",
    "    # Calculate training metrics\n",
    "    for i in range(prd.shape[0]):\n",
    "        _prd = torch.argmax(prd[i], dim=0)\n",
    "        prediction = sitk.GetImageFromArray(_prd.cpu().squeeze().numpy().astype(np.int8))\n",
    "        # print(prediction)\n",
    "        reference = sitk.GetImageFromArray(seg.cpu().squeeze().numpy().astype(np.int8))\n",
    "        metrics_store.calc_seg_metrics(reference, prediction)\n",
    "\n",
    "    loss_train_log.append(loss.item())\n",
    "    ji, dsc, hd, asc = metrics_store.get_averages()\n",
    "\n",
    "    print('+ TRAINING \\tEpoch: {} \\tLoss: {:.6f}'.format(epoch, loss.item()))\n",
    "    print(f'+   ASD: {asc}, JI: {ji}, HD: {hd}, DSC: {dsc}')\n",
    "    metrics_store.reset()\n",
    "    \n",
    "    # Validation\n",
    "    if epoch == 1 or epoch % val_interval == 0:\n",
    "        loss_val = 0\n",
    "        sum_pts = 0\n",
    "        \n",
    "        with torch.no_grad():\n",
    "            # Assuming batch size = 1\n",
    "            for data_sample in dataloader_val:\n",
    "                img, seg = data_sample['img'].to(device), data_sample['seg'].to(device)\n",
    "                prd = model(img)\n",
    "                loss_val += F.cross_entropy(prd, seg.squeeze(1), reduction='sum').item()\n",
    "                sum_pts += np.prod(img_size)\n",
    "                \n",
    "                prd = torch.argmax(prd, dim=1)\n",
    "                \n",
    "                # Calculate metrics\n",
    "                prediction = sitk.GetImageFromArray(prd.cpu().squeeze().numpy().astype(np.int8))\n",
    "                reference = sitk.GetImageFromArray(seg.cpu().squeeze().numpy().astype(np.int8))\n",
    "                metrics_store.calc_seg_metrics(reference, prediction)\n",
    "        \n",
    "        loss_val /= sum_pts\n",
    "        ji, dsc, hd, asc = metrics_store.get_averages()\n",
    "        metrics_store.reset()\n",
    "\n",
    "        loss_val_log.append(loss_val)\n",
    "        epoch_val_log.append(epoch)\n",
    "\n",
    "        print('--------------------------------------------------')\n",
    "        print('+ VALIDATE \\tEpoch: {} \\tLoss: {:.6f}'.format(epoch, loss_val))\n",
    "        print(f'+   ASD: {asc}, JI: {ji}, HD: {hd}, DSC: {dsc}')\n",
    "        display_image(sitk.LabelToRGB(prediction))\n",
    "        print('--------------------------------------------------')\n",
    "\n",
    "torch.save(model.state_dict(), os.path.join(model_dir, 'model.pt'))\n",
    "\n",
    "print('\\nFinished TRAINING.')\n",
    "\n",
    "plt.plot(range(1, num_epochs + 1), loss_train_log, c='r', label='train')\n",
    "plt.plot(epoch_val_log, loss_val_log, c='b', label='val')\n",
    "plt.legend(loc='upper right')\n",
    "plt.xlabel('epoch')\n",
    "plt.ylabel('loss')\n",
    "plt.show()"
   ]
  },
  {
   "cell_type": "markdown",
   "metadata": {
    "id": "2oFtvMgJMl7i"
   },
   "source": [
    "#### Loading and pre-processing of testing data\n",
    "\n",
    "Now that we have trained a model, the next cells are about applying that model to the 500 subjects that are used for training the age regressor. Note, at a later stage you will also need to run the model on the 100 subjects from the hold-out set, once these have been made available. Before testing on the full set, you may want to initially just test on the 5 validation subjects to check everything is working fine."
   ]
  },
  {
   "cell_type": "code",
   "execution_count": null,
   "metadata": {
    "id": "64oCOnERMl7i"
   },
   "outputs": [],
   "source": [
    "meta_data_reg_train = pd.read_csv(data_dir + 'meta/meta_data_regression_train.csv')\n",
    "ids_seg_test = list(meta_data_reg_train['subject_id'])\n",
    "files_seg_img_test = [data_dir + 'images/sub-' + f + '_T1w_unbiased.nii.gz' for f in ids_seg_test][:10]\n",
    "files_seg_seg_test = [data_dir + 'segs_refs/sub-' + f + '_T1w_seg.nii.gz' for f in ids_seg_test][:10]\n",
    "files_seg_msk_test = [data_dir + 'masks/sub-' + f + '_T1w_brain_mask.nii.gz' for f in ids_seg_test][:10]\n",
    "\n",
    "dataset_test = ImageSegmentationDataset(files_seg_img_test, files_seg_seg_test, files_seg_msk_test, img_spacing, img_size)\n",
    "dataloader_test = torch.utils.data.DataLoader(dataset_test, batch_size=1, shuffle=False)"
   ]
  },
  {
   "cell_type": "markdown",
   "metadata": {
    "id": "E3IKIh2FMl7i"
   },
   "source": [
    "#### Visualise testing example\n",
    "\n",
    "Just to check how a testing image looks like after pre-processing."
   ]
  },
  {
   "cell_type": "code",
   "execution_count": null,
   "metadata": {
    "id": "X4R_lzTLMl7j"
   },
   "outputs": [],
   "source": [
    "sample = dataset_test.get_sample(0)\n",
    "img_name = dataset_test.get_img_name(0)\n",
    "seg_name = dataset_test.get_seg_name(0)\n",
    "print('Image: ' + img_name)\n",
    "display_image(sample['img'], window=5, level=0)\n",
    "print('Segmentation')\n",
    "display_image(sitk.LabelToRGB(sample['seg']))\n",
    "print('Mask')\n",
    "display_image(sample['msk'])"
   ]
  },
  {
   "cell_type": "markdown",
   "metadata": {
    "id": "CkpfSq47Ml7j"
   },
   "source": [
    "#### TESTING\n",
    "\n",
    "Below is an implementation of a full testing procedure that saves the segmentations in an output folder. Feel free to modify this procedure.\n",
    "\n",
    "**TASK: You will need to add the calculations of Dice scores (and possibly other metrics) to evaluate the segmentation performance.**"
   ]
  },
  {
   "cell_type": "code",
   "execution_count": null,
   "metadata": {
    "id": "DYWtMJEXMl7j",
    "scrolled": false
   },
   "outputs": [],
   "source": [
    "pred_dir = os.path.join(out_dir, 'pred')\n",
    "if not os.path.exists(pred_dir):\n",
    "    os.makedirs(pred_dir)\n",
    "\n",
    "model = SimpleNet3D(num_classes=num_classes)\n",
    "model.load_state_dict(torch.load(os.path.join(model_dir, 'model.pt')))\n",
    "model.to(device)\n",
    "model.eval()\n",
    "    \n",
    "print('START TESTING...')\n",
    "\n",
    "metrics_store = MetricsStore()\n",
    "\n",
    "loss_test = 0\n",
    "sum_pts = 0\n",
    "idx_test = 0\n",
    "with torch.no_grad():\n",
    "    for data_sample in dataloader_test:\n",
    "        img, seg = data_sample['img'].to(device), data_sample['seg'].to(device)\n",
    "        prd = model(img)\n",
    "        loss_test += F.cross_entropy(prd, seg.squeeze(1), reduction='sum').item()\n",
    "        sum_pts += np.prod(img_size)\n",
    "        \n",
    "        prd = torch.argmax(prd, dim=1)\n",
    "\n",
    "        sample = dataset_test.get_sample(idx_test)\n",
    "        name = dataset_test.get_seg_name(idx_test)\n",
    "        \n",
    "        # Note: Keep metric calculations before CopyInformation to \n",
    "        #   ensure that both images' spacing/origins are overlapping\n",
    "        prediction = sitk.GetImageFromArray(prd.cpu().squeeze().numpy().astype(np.uint8))\n",
    "        reference = sitk.GetImageFromArray(seg.cpu().squeeze().numpy().astype(np.uint8))\n",
    "        metrics_store.calc_seg_metrics(reference, prediction)\n",
    "        \n",
    "        prediction.CopyInformation(sample['seg'])\n",
    "        sitk.WriteImage(prediction, os.path.join(pred_dir, name))\n",
    "        \n",
    "        idx_test += 1\n",
    "        \n",
    "loss_test /= sum_pts\n",
    "\n",
    "ji, dsc, hd, asc = metrics_store.get_averages()\n",
    "metrics_store.reset()\n",
    "\n",
    "print('+ TESTING \\tLoss: {:.6f}'.format(loss_test))\n",
    "print(f'+   ASD: {asd}, JI: {ji}, HD: {hd}, DSC: {dsc}')\n",
    "print()\n",
    "\n",
    "# Show last testing sample as an example\n",
    "print('\\n\\nReference segmentation')\n",
    "display_image(sitk.LabelToRGB(sample['seg']))\n",
    "print('Predicted segmentation')\n",
    "display_image(sitk.LabelToRGB(prediction))\n",
    "\n",
    "print('\\nFinished TESTING.')"
   ]
  },
  {
   "cell_type": "markdown",
   "metadata": {
    "id": "PAUO4lZCMl7j"
   },
   "source": [
    "### TASK A-2: Feature calculation\n",
    "\n",
    "Start by calculating the three absolute tissue volumes for each subject. Plot the volumes against the subjects' ages. Taking the absolute volumes of tissues as features, however, might not be predictive. Instead, relative volumes need to be computed as the ratios between each tissue volume and overall brain volume. But you might also want to explore using different combinations or even polynomial features.\n",
    "\n",
    "Implement a function that constructs a big matrix $X$ with a row for each subject and features across the columns. Start with just calculating three simple features of relative tissue volumes for GM, WM and CSF, and compare these to the absolute volumes plotted above.\n",
    "\n",
    "*Note:* If you are struggling with the previous task on image segmentation, or if you prefer to work on this and the following tasks first, you can continue here using the provided reference segmentations which can be found in a subfolder `segs_refs`."
   ]
  },
  {
   "cell_type": "code",
   "execution_count": null,
   "metadata": {
    "id": "a4CasH25Ml7k"
   },
   "outputs": [],
   "source": [
    "## CALCULATE ABSOLUTE TISSUE VOLUMES\n",
    "\n",
    "import os\n",
    "\n",
    "# USE THIS TO RUN THE CALCULATIONS ON YOUR SEGMENTATONS\n",
    "seg_dir = './output/pred/'\n",
    "\n",
    "# USE THIS TO RUN THE CALCULATIONS ON OUR REFERENCE SEGMENTATIONS\n",
    "#seg_dir = data_dir + 'segs_refs/'\n",
    "\n",
    "meta_data_reg_train = pd.read_csv(data_dir + 'meta/meta_data_regression_train.csv')\n",
    "ids_reg_train = list(meta_data_reg_train['subject_id'])\n",
    "files_reg_seg_train = [seg_dir + 'sub-' + f + '_T1w_seg.nii.gz' for f in ids_reg_train]\n",
    "\n",
    "# THIS MATRIX WILL STORE THE VOLUMES PER TISSUE CLASS\n",
    "vols = np.zeros((3,len(files_reg_seg_train)))\n",
    "\n",
    "for idx, _ in enumerate(tqdm(range(len(files_reg_seg_train)), desc='Calculating Features')):\n",
    "    \n",
    "    seg_filename = files_reg_seg_train[idx]\n",
    "    \n",
    "    if os.path.exists(seg_filename):\n",
    "        seg = sitk.ReadImage(seg_filename)\n",
    "        \n",
    "        ########################################\n",
    "        # ADD YOUR CODE HERE\n",
    "        ########################################"
   ]
  },
  {
   "cell_type": "markdown",
   "metadata": {
    "id": "aRgUe5nRMl7k"
   },
   "source": [
    "Plot features versus age."
   ]
  },
  {
   "cell_type": "code",
   "execution_count": null,
   "metadata": {
    "id": "Uu7rFmlRMl7k"
   },
   "outputs": [],
   "source": [
    "plt.scatter(vols[0,:],meta_data_reg_train['age'], marker='.')\n",
    "plt.scatter(vols[1,:],meta_data_reg_train['age'], marker='.')\n",
    "plt.scatter(vols[2,:],meta_data_reg_train['age'], marker='.')\n",
    "plt.grid()\n",
    "plt.title('Unnormalised')\n",
    "plt.xlabel('Volume')\n",
    "plt.ylabel('Age')\n",
    "plt.legend(('CSF','GM','WM'))\n",
    "plt.show()"
   ]
  },
  {
   "cell_type": "code",
   "execution_count": null,
   "metadata": {
    "id": "_ztoHHfYMl7k"
   },
   "outputs": [],
   "source": [
    "## CALCULATE RELATIVE TISSUE VOLUMES\n",
    "\n",
    "vols_normalised = np.zeros((3,len(files_reg_seg_train)))\n",
    "\n",
    "########################################\n",
    "# ADD YOUR CODE HERE\n",
    "########################################"
   ]
  },
  {
   "cell_type": "markdown",
   "metadata": {
    "id": "XCdIGrYEMl7k"
   },
   "source": [
    "Plot normalised features versus age."
   ]
  },
  {
   "cell_type": "code",
   "execution_count": null,
   "metadata": {
    "id": "l1H_uUW6Ml7k"
   },
   "outputs": [],
   "source": [
    "plt.scatter(vols_normalised[0,:],meta_data_reg_train['age'], marker='.')\n",
    "plt.scatter(vols_normalised[1,:],meta_data_reg_train['age'], marker='.')\n",
    "plt.scatter(vols_normalised[2,:],meta_data_reg_train['age'], marker='.')\n",
    "plt.grid()\n",
    "plt.title('Normalised')\n",
    "plt.xlabel('Volume')\n",
    "plt.ylabel('Age')\n",
    "plt.legend(('CSF','GM','WM'))\n",
    "plt.show()"
   ]
  },
  {
   "cell_type": "markdown",
   "metadata": {
    "id": "FCcA5ed-Ml7k"
   },
   "source": [
    "Final data for age regression"
   ]
  },
  {
   "cell_type": "code",
   "execution_count": null,
   "metadata": {
    "id": "U5i6KEY0Ml7l"
   },
   "outputs": [],
   "source": [
    "X = vols_normalised.T\n",
    "y = meta_data_reg_train['age'].values.reshape(-1,1)\n",
    "\n",
    "print(X.shape)\n",
    "print(y.shape)"
   ]
  },
  {
   "cell_type": "markdown",
   "metadata": {
    "id": "gN1XZvQdMl7l"
   },
   "source": [
    "### TASK A-3: Age regression and cross-validation\n",
    "\n",
    "Experiment with different regression methods from the [scikit-learn toolkit](http://scikit-learn.org/stable/supervised_learning.html#supervised-learning). Remember to construct the output vectur $y$ containing the age for each of the subjects.\n",
    "\n",
    "Evaluate the methods using two-fold [cross-validation](http://scikit-learn.org/stable/modules/cross_validation.html#cross-validation) where the dataset of 500 subjects is split into two equally sized sets $(X_1,y_1)$ and $(X_2,y_2)$ which are used for training and testing in an alternating way (so each set is used as $(X_{\\text{train}},y_{\\text{train}})$ and $(X_{\\text{test}},y_{\\text{test}})$ exactly once).\n",
    "\n",
    "Try using at least three different regression methods, and generate a plot allows easy comparison of the performance of the three methods. Useful [error metrics](https://scikit-learn.org/stable/modules/model_evaluation.html#regression-metrics) to report include mean absolute error and r2 score. You might also want to plot the real vs predicted ages.\n",
    "\n",
    "*Note:* These [scikit-learn examples](https://scikit-learn.org/stable/auto_examples/) might serve as an inspiration.\n",
    "\n",
    "*Hint:* Be careful how you split the dataset into two folds. Take into account the data characteristics shown at the top of the notebook."
   ]
  },
  {
   "cell_type": "code",
   "execution_count": null,
   "metadata": {
    "id": "sk_5IGrbMl7l"
   },
   "outputs": [],
   "source": [
    "########################################\n",
    "# ADD YOUR CODE HERE\n",
    "########################################"
   ]
  },
  {
   "cell_type": "markdown",
   "metadata": {
    "id": "iV53OpC4Ml7l"
   },
   "source": [
    "Error calculation and plotting"
   ]
  },
  {
   "cell_type": "code",
   "execution_count": null,
   "metadata": {
    "id": "olmVam3sMl7l"
   },
   "outputs": [],
   "source": [
    "print('MAE: {0}'.format(mean_absolute_error(y,predicted)))\n",
    "print('R2: {0}'.format(r2_score(y,predicted)))\n",
    "\n",
    "fig, ax = plt.subplots()\n",
    "ax.scatter(y, predicted, marker='.')\n",
    "ax.plot([y.min(), y.max()], [y.min(), y.max()], 'k--', lw=2)\n",
    "ax.set_xlabel('Real Age')\n",
    "ax.set_ylabel('Predicted Age')\n",
    "plt.show()"
   ]
  },
  {
   "cell_type": "markdown",
   "metadata": {
    "id": "fijlpin9Ml7l"
   },
   "source": [
    "### Task A-4: Final test on hold-out data"
   ]
  },
  {
   "cell_type": "markdown",
   "metadata": {
    "id": "ABDpHYIkMl7l"
   },
   "source": [
    "#### Downloading data\n",
    "\n",
    "This is only available once the final test data has been released."
   ]
  },
  {
   "cell_type": "code",
   "execution_count": null,
   "metadata": {
    "id": "VDHvmBo0Ml7m"
   },
   "outputs": [],
   "source": [
    "! wget https://www.doc.ic.ac.uk/~bglocker/teaching/notebooks/brainage-testdata.zip\n",
    "! unzip brainage-testdata.zip"
   ]
  },
  {
   "cell_type": "markdown",
   "metadata": {
    "id": "9nthcZZCMl7m"
   },
   "source": [
    "#### Loading and pre-processing of testing data"
   ]
  },
  {
   "cell_type": "code",
   "execution_count": null,
   "metadata": {
    "id": "3U6a_EYOMl7m"
   },
   "outputs": [],
   "source": [
    "meta_data_reg_test = pd.read_csv(data_dir + 'meta/meta_data_regression_test.csv')\n",
    "ids_seg_test = list(meta_data_reg_test['subject_id'])\n",
    "files_seg_img_test = [data_dir + 'images/sub-' + f + '_T1w_unbiased.nii.gz' for f in ids_seg_test]\n",
    "files_seg_seg_test = [data_dir + 'segs_refs/sub-' + f + '_T1w_seg.nii.gz' for f in ids_seg_test]\n",
    "files_seg_msk_test = [data_dir + 'masks/sub-' + f + '_T1w_brain_mask.nii.gz' for f in ids_seg_test]\n",
    "\n",
    "dataset_test = ImageSegmentationDataset(files_seg_img_test, files_seg_seg_test, files_seg_msk_test, img_spacing, img_size)\n",
    "dataloader_test = torch.utils.data.DataLoader(dataset_test, batch_size=1, shuffle=False)"
   ]
  },
  {
   "cell_type": "markdown",
   "metadata": {
    "id": "SyBEl3FVMl7m"
   },
   "source": [
    "#### Run final testing"
   ]
  },
  {
   "cell_type": "code",
   "execution_count": null,
   "metadata": {
    "id": "zDXxlMYQMl7m"
   },
   "outputs": [],
   "source": [
    "########################################\n",
    "# ADD YOUR CODE HERE\n",
    "########################################"
   ]
  },
  {
   "cell_type": "markdown",
   "metadata": {
    "id": "C2Y_fJbfMl7m"
   },
   "source": [
    "## Part B: Age prediction using regression CNNs\n",
    "\n",
    "For the second approach we will use a convolutional neural network to directly predict a subject's age.\n",
    "\n",
    "You will need to implement a CNN model that takes an MRI scan as an input and maps it to a one-dimensional, real-valued output. A good starting point may be a LeNet-type architecture and adapt the last layers to convert the classification into a regression network. You should have all the necessary ingredients now from previous tasks and the notebooks from the lab tutorials for how to set up a CNN model in PyTorch, how to implement a suitable training and testing routine, and how to run a two-fold cross-validation on the 500 subjects similar to task A. For the final age prediction model, you should use all 500 subjects for training and you may want to use the 47 subjects that we used for training the tissue segmentation model as your validation data.\n",
    "\n",
    "*Note:* Similar to task A, you may want to set up a pre-processing pipeline that involves intensity normalisation and resampling of the input data."
   ]
  },
  {
   "cell_type": "code",
   "execution_count": null,
   "metadata": {
    "id": "3ZasUkg-Ml7n"
   },
   "outputs": [],
   "source": [
    "########################################\n",
    "# ADD YOUR CODE HERE\n",
    "########################################"
   ]
  }
 ],
 "metadata": {
  "accelerator": "GPU",
  "colab": {
   "name": "CW-Brain-Age-Regression.ipynb",
   "provenance": [],
   "toc_visible": true
  },
  "kernelspec": {
   "display_name": "Python 3",
   "language": "python",
   "name": "python3"
  },
  "language_info": {
   "codemirror_mode": {
    "name": "ipython",
    "version": 3
   },
   "file_extension": ".py",
   "mimetype": "text/x-python",
   "name": "python",
   "nbconvert_exporter": "python",
   "pygments_lexer": "ipython3",
   "version": "3.8.5"
  }
 },
 "nbformat": 4,
 "nbformat_minor": 0
}
